{
 "cells": [
  {
   "cell_type": "code",
   "execution_count": 16,
   "metadata": {},
   "outputs": [],
   "source": [
    "import numpy as np\n",
    "from matplotlib import pyplot as plt\n",
    "import math\n",
    "plt.rcParams[\"figure.figsize\"] = (16,9)"
   ]
  },
  {
   "cell_type": "code",
   "execution_count": 2,
   "metadata": {},
   "outputs": [
    {
     "data": {
      "text/plain": [
       "1000000.0"
      ]
     },
     "execution_count": 2,
     "metadata": {},
     "output_type": "execute_result"
    }
   ],
   "source": [
    "V=1e6\n",
    "V"
   ]
  },
  {
   "cell_type": "markdown",
   "metadata": {},
   "source": [
    "## Generator"
   ]
  },
  {
   "cell_type": "code",
   "execution_count": 3,
   "metadata": {},
   "outputs": [],
   "source": [
    "def get_next(prev, a, m):\n",
    "    return a * prev % m\n",
    "    \n",
    "def generate(a,m,R0,n=V):\n",
    "    numbers = []\n",
    "    for i in range(int(n)):\n",
    "        prev = R0 if i == 0 else R\n",
    "        R = get_next(prev,a,m)\n",
    "        numbers.append(R / m)\n",
    "    return np.array(numbers)"
   ]
  },
  {
   "cell_type": "markdown",
   "metadata": {},
   "source": [
    "## Period "
   ]
  },
  {
   "cell_type": "code",
   "execution_count": 4,
   "metadata": {},
   "outputs": [],
   "source": [
    "def get_period(numbers):\n",
    "    value = numbers[-1]\n",
    "    indexes = np.where(numbers == value)[0]\n",
    "    return indexes[1] - indexes[0]   \n",
    "def get_aperiod(numbers, p):\n",
    "    l = 0\n",
    "    i = 0\n",
    "    while numbers[i] != numbers[i+p]:\n",
    "        i += 1 \n",
    "    l = i + p\n",
    "    return l "
   ]
  },
  {
   "cell_type": "markdown",
   "metadata": {},
   "source": [
    "## Grid search to find parameters"
   ]
  },
  {
   "cell_type": "code",
   "execution_count": 5,
   "metadata": {},
   "outputs": [],
   "source": [
    "def grid_search(a, m, r):\n",
    "    max_period = 0\n",
    "    best_params = {}\n",
    "    aperiod_params = {}\n",
    "    for a_val in a:\n",
    "        for m_val in m:\n",
    "            for r_val in r:\n",
    "                numbers = generate(a_val,m_val,r_val)\n",
    "                period = get_period(numbers)         \n",
    "                ap = get_aperiod(numbers, period)\n",
    "                print(f\"a: {a_val} m: {m_val} R0: {r_val}. Period: {period}\")\n",
    "                if ap != period:\n",
    "                    aperiod_params = {'a': a_val,'m': m_val,'R0': r_val}                    \n",
    "                if period > max_period:\n",
    "                    max_period = period\n",
    "                    best_params = {'a': a_val,'m': m_val,'R0': r_val}\n",
    "                \n",
    "    return best_params, max_period, aperiod_params\n",
    "                "
   ]
  },
  {
   "cell_type": "code",
   "execution_count": 6,
   "metadata": {},
   "outputs": [],
   "source": [
    "a = range(30000, 30010)\n",
    "m = range(50000,50010)\n",
    "r = [28657, 33461, 43261]\n",
    "# grid_search(a,m,r)"
   ]
  },
  {
   "cell_type": "code",
   "execution_count": 7,
   "metadata": {},
   "outputs": [],
   "source": [
    "a = 1664525\n",
    "m = 2**18\n",
    "R0 = 514229"
   ]
  },
  {
   "cell_type": "code",
   "execution_count": 8,
   "metadata": {},
   "outputs": [],
   "source": [
    "# a = 30009\n",
    "# m = 50004\n",
    "# R0 = 43261"
   ]
  },
  {
   "cell_type": "code",
   "execution_count": 9,
   "metadata": {},
   "outputs": [],
   "source": [
    "numbers = generate(a,m, R0)"
   ]
  },
  {
   "cell_type": "code",
   "execution_count": 10,
   "metadata": {},
   "outputs": [
    {
     "data": {
      "text/plain": [
       "65536"
      ]
     },
     "execution_count": 10,
     "metadata": {},
     "output_type": "execute_result"
    }
   ],
   "source": [
    "p = get_period(numbers)\n",
    "p"
   ]
  },
  {
   "cell_type": "code",
   "execution_count": 11,
   "metadata": {},
   "outputs": [
    {
     "data": {
      "text/plain": [
       "65536"
      ]
     },
     "execution_count": 11,
     "metadata": {},
     "output_type": "execute_result"
    }
   ],
   "source": [
    "get_aperiod(numbers, p)"
   ]
  },
  {
   "cell_type": "code",
   "execution_count": 12,
   "metadata": {},
   "outputs": [
    {
     "data": {
      "text/plain": [
       "0.5000607116699218"
      ]
     },
     "execution_count": 12,
     "metadata": {},
     "output_type": "execute_result"
    }
   ],
   "source": [
    "numbers.mean()"
   ]
  },
  {
   "cell_type": "code",
   "execution_count": 13,
   "metadata": {},
   "outputs": [
    {
     "data": {
      "text/plain": [
       "0.08333506952009036"
      ]
     },
     "execution_count": 13,
     "metadata": {},
     "output_type": "execute_result"
    }
   ],
   "source": [
    "numbers.var()"
   ]
  },
  {
   "cell_type": "code",
   "execution_count": 14,
   "metadata": {},
   "outputs": [
    {
     "data": {
      "text/plain": [
       "0.28867814174282463"
      ]
     },
     "execution_count": 14,
     "metadata": {},
     "output_type": "execute_result"
    }
   ],
   "source": [
    "numbers.std()"
   ]
  },
  {
   "cell_type": "code",
   "execution_count": 30,
   "metadata": {},
   "outputs": [
    {
     "data": {
      "text/plain": [
       "Text(0, 0.5, 'Probability')"
      ]
     },
     "execution_count": 30,
     "metadata": {},
     "output_type": "execute_result"
    },
    {
     "data": {
      "image/png": "[encoded data removed]",
      "text/plain": [
       "<Figure size 1152x648 with 1 Axes>"
      ]
     },
     "metadata": {
      "needs_background": "light"
     },
     "output_type": "display_data"
    }
   ],
   "source": [
    "plt.hist(numbers, bins=20, density=True, rwidth=0.95, range=(0,1))\n",
    "plt.ylabel('Probability')"
   ]
  },
  {
   "cell_type": "markdown",
   "metadata": {},
   "source": [
    "## Uniform check"
   ]
  },
  {
   "cell_type": "code",
   "execution_count": 18,
   "metadata": {},
   "outputs": [],
   "source": [
    "def check_uniform(numbers):\n",
    "    k = 0\n",
    "    for i in range(0, len(numbers), 2):\n",
    "        if numbers[i]**2 + numbers[i+1]**2 < 1:\n",
    "            k += 1\n",
    "    print(f\"k = {k}\")\n",
    "    return 2 * k / len(numbers)"
   ]
  },
  {
   "cell_type": "code",
   "execution_count": 19,
   "metadata": {},
   "outputs": [
    {
     "name": "stdout",
     "output_type": "stream",
     "text": [
      "k = 392680\n",
      "2K/N = 0.78536\n"
     ]
    }
   ],
   "source": [
    "print(f\"2K/N = {check_uniform(numbers)}\")"
   ]
  },
  {
   "cell_type": "code",
   "execution_count": 20,
   "metadata": {},
   "outputs": [
    {
     "name": "stdout",
     "output_type": "stream",
     "text": [
      "Pi/4 = 0.7853981633974483\n"
     ]
    }
   ],
   "source": [
    "print(f\"Pi/4 = {math.pi / 4}\")"
   ]
  },
  {
   "cell_type": "code",
   "execution_count": null,
   "metadata": {},
   "outputs": [],
   "source": []
  }
 ],
 "metadata": {
  "kernelspec": {
   "display_name": "Python 3",
   "language": "python",
   "name": "python3"
  },
  "language_info": {
   "codemirror_mode": {
    "name": "ipython",
    "version": 3
   },
   "file_extension": ".py",
   "mimetype": "text/x-python",
   "name": "python",
   "nbconvert_exporter": "python",
   "pygments_lexer": "ipython3",
   "version": "3.7.1"
  }
 },
 "nbformat": 4,
 "nbformat_minor": 2
}
