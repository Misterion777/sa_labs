{
 "cells": [
  {
   "cell_type": "markdown",
   "metadata": {},
   "source": [
    "![title](img/graph.jpg)"
   ]
  },
  {
   "cell_type": "code",
   "execution_count": 1,
   "metadata": {},
   "outputs": [],
   "source": [
    "import numpy as np\n",
    "import enum"
   ]
  },
  {
   "cell_type": "code",
   "execution_count": 2,
   "metadata": {},
   "outputs": [],
   "source": [
    "class State(enum.Enum):\n",
    "    P000 = (0,0,0)\n",
    "    P010 = (0,1,0)\n",
    "    P001 = (0,0,1)\n",
    "    P011 = (0,1,1)\n",
    "    P111 = (1,1,1)\n",
    "    P211 = (2,1,1)"
   ]
  },
  {
   "cell_type": "code",
   "execution_count": 3,
   "metadata": {},
   "outputs": [],
   "source": [
    "p = 0.75\n",
    "pi1 = 0.8\n",
    "pi2 = 0.5"
   ]
  },
  {
   "cell_type": "code",
   "execution_count": 4,
   "metadata": {},
   "outputs": [],
   "source": [
    "def event_happened(p):\n",
    "    return np.random.uniform() > p \n",
    "\n",
    "def get_next_state(state):\n",
    "    arrived = event_happened(p)\n",
    "    channel1_done = event_happened(pi1)\n",
    "    channel2_done = event_happened(pi2)\n",
    "    if state == State.P000:\n",
    "        if arrived:\n",
    "            return State.P010\n",
    "        else:\n",
    "            return State.P000\n",
    "    elif state == State.P010:\n",
    "        if (not arrived and not channel1_done) or (arrived and channel1_done): #!!!!\n",
    "            return State.P010\n",
    "        if not arrived and channel1_done:\n",
    "            return State.P000\n",
    "        if arrived and not channel1_done:\n",
    "            return State.P011      \n",
    "    elif state == State.P001:\n",
    "        if arrived and not channel2_done:\n",
    "            return State.P011\n",
    "        if arrived and channel2_done:\n",
    "            return State.P010\n",
    "        if not arrived and channel2_done:\n",
    "            return State.P000\n",
    "        if not arrived and not channel2_done:\n",
    "            return State.P001\n",
    "    elif state == State.P011:\n",
    "        if not arrived and channel1_done and channel2_done:\n",
    "            return State.P000\n",
    "        if arrived and not channel1_done and not channel2_done:\n",
    "            return State.P111\n",
    "        if not arrived and channel1_done and not channel2_done:\n",
    "            return State.P001\n",
    "        if (not arrived and not channel1_done and channel2_done) \\\n",
    "            or (arrived and channel1_done and channel2_done):\n",
    "            return State.P010\n",
    "        if (not arrived and not channel1_done and not channel2_done) \\\n",
    "            or (arrived and channel1_done and not channel2_done) \\\n",
    "            or (arrived and not channel1_done and channel2_done): #!!!!\n",
    "            return State.P011\n",
    "    elif state == State.P111:\n",
    "        if arrived and not channel1_done and not channel2_done:\n",
    "            return State.P211\n",
    "        if not arrived and channel1_done and channel2_done:\n",
    "            return State.P010\n",
    "        if (arrived and channel1_done and channel2_done) \\\n",
    "            or (not arrived and channel1_done and not channel2_done) \\\n",
    "            or (not arrived and not channel1_done and channel2_done):\n",
    "            return State.P011\n",
    "        if (not arrived and not channel1_done and not channel2_done) \\\n",
    "            or (arrived and channel1_done and not channel2_done) \\\n",
    "            or (arrived and not channel1_done and channel2_done): # !!!!\n",
    "            return State.P111\n",
    "    elif state == State.P211:\n",
    "        if not arrived and channel1_done and channel2_done:\n",
    "            return State.P011\n",
    "        if (arrived and channel1_done and channel2_done) \\\n",
    "            or (not arrived and channel1_done and not channel2_done) \\\n",
    "            or (not arrived and not channel1_done and channel2_done):\n",
    "            return State.P111\n",
    "        if (arrived and not channel1_done and not channel2_done) \\\n",
    "            or (not arrived and not channel1_done and not channel2_done) \\\n",
    "            or (arrived and not channel1_done and channel2_done) \\\n",
    "            or (arrived and channel1_done and not channel2_done): # !!!!\n",
    "            return State.P211\n",
    "        "
   ]
  },
  {
   "cell_type": "code",
   "execution_count": 5,
   "metadata": {},
   "outputs": [],
   "source": [
    "def get_out_order(prev, curr):\n",
    "    prev = prev.value\n",
    "    curr = curr.value\n",
    "    return max(curr[1] - prev[1], curr[2] - prev[2]) + (curr[0] - prev[0]) \n",
    "\n",
    "def get_queue_amount(curr):\n",
    "    curr = curr.value\n",
    "    return curr[0]\n",
    "\n",
    "def get_channel_load(curr, channel_num):\n",
    "    curr = curr.value\n",
    "    return curr[channel_num]\n",
    "    "
   ]
  },
  {
   "cell_type": "code",
   "execution_count": 7,
   "metadata": {},
   "outputs": [],
   "source": [
    "N = 100000\n",
    "\n",
    "def model():\n",
    "    L = 0\n",
    "    A = 0\n",
    "    K1 = 0\n",
    "    \n",
    "    K2 = 0\n",
    "    state = State.P000\n",
    "\n",
    "    for i in range(N):\n",
    "        next_state = get_next_state(state)\n",
    "        A += get_out_order(state, next_state)\n",
    "        L += get_queue_amount(next_state)\n",
    "        K1 += get_channel_load(next_state, 1)\n",
    "        K2 += get_channel_load(next_state, 2)\n",
    "        state = next_state\n",
    "    A /= N\n",
    "    L /= N\n",
    "    K1 /= N\n",
    "    K2 /= N\n",
    "    print(f\"A:{A} L:{L} K1:{K1} K2:{K2}\")    "
   ]
  },
  {
   "cell_type": "code",
   "execution_count": 8,
   "metadata": {},
   "outputs": [
    {
     "name": "stdout",
     "output_type": "stream",
     "text": [
      "A:0.1605317 L:0.0510929 K1:0.6410582 K2:0.2416411\n"
     ]
    }
   ],
   "source": [
    "model()"
   ]
  },
  {
   "cell_type": "code",
   "execution_count": null,
   "metadata": {},
   "outputs": [],
   "source": []
  }
 ],
 "metadata": {
  "kernelspec": {
   "display_name": "Python 3",
   "language": "python",
   "name": "python3"
  },
  "language_info": {
   "codemirror_mode": {
    "name": "ipython",
    "version": 3
   },
   "file_extension": ".py",
   "mimetype": "text/x-python",
   "name": "python",
   "nbconvert_exporter": "python",
   "pygments_lexer": "ipython3",
   "version": "3.7.1"
  }
 },
 "nbformat": 4,
 "nbformat_minor": 2
}
