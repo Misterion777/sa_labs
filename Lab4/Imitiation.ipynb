{
 "cells": [
  {
   "cell_type": "code",
   "execution_count": 1,
   "metadata": {},
   "outputs": [],
   "source": [
    "import numpy as np"
   ]
  },
  {
   "cell_type": "code",
   "execution_count": 30,
   "metadata": {},
   "outputs": [],
   "source": [
    "count = 100000\n",
    "input_intensity = 2.5\n",
    "output_intensity = 3"
   ]
  },
  {
   "cell_type": "code",
   "execution_count": 31,
   "metadata": {},
   "outputs": [],
   "source": [
    "def get_timings():\n",
    "    timings = np.zeros(count)\n",
    "    timings[0] = np.random.exponential(input_intensity)\n",
    "    for i in range(1, len(timings)):\n",
    "        timings[i] = timings[i - 1] + np.random.exponential(input_intensity)\n",
    "    return timings"
   ]
  },
  {
   "cell_type": "code",
   "execution_count": 36,
   "metadata": {},
   "outputs": [],
   "source": [
    "def loop(): \n",
    "    process_timing = -1\n",
    "    timings = get_timings()\n",
    "    prev_queue_time = 0\n",
    "    prev_time = 0\n",
    "    time = 0\n",
    "    output_count = 0\n",
    "    queue_count = 0\n",
    "    queue_len_times = []\n",
    "    queue_times = np.array([])\n",
    "    final_queue_times = []\n",
    "    last_order_time = 0\n",
    "    system_times = []\n",
    "    i = 0\n",
    "    while i < len(timings):        \n",
    "        time = timings[i]           \n",
    "        queue_times += time-prev_time\n",
    "        if process_timing == -1:                        \n",
    "            process_timing = time + np.random.exponential(output_intensity)\n",
    "            i+=1\n",
    "        elif time > process_timing:                                                \n",
    "            output_count += 1\n",
    "            system_times.append(last_order_time + max(process_timing - prev_time,0) )\n",
    "            if queue_count > 0:\n",
    "                process_timing += np.random.exponential(output_intensity)\n",
    "                queue_count -= 1\n",
    "                last_order_time = queue_times[0]\n",
    "                \n",
    "                final_queue_times.append(last_order_time)\n",
    "                queue_times = queue_times[1:]\n",
    "                \n",
    "            else:\n",
    "                process_timing = -1\n",
    "        else:\n",
    "            queue_count += 1\n",
    "            queue_times = np.append(queue_times, 0)\n",
    "            \n",
    "            queue_len_times.append((queue_count, time - prev_queue_time))\n",
    "            prev_queue_time = time\n",
    "            i+=1\n",
    "        \n",
    "#         queue_times = list(map(lambda x: x+, queue_times))\n",
    "        prev_time = time\n",
    "        \n",
    "        \n",
    "    L = sum([i*j for i,j in queue_len_times])/ timings[-1]\n",
    "    Wq = np.mean(final_queue_times)\n",
    "    Ws = sum(system_times)/ (len(system_times)-1)\n",
    "    print(f\"Job time: {timings[-1]}\")\n",
    "    print(f\"L = {L}\")\n",
    "    print(f\"Wоч = {Wq} ({len(final_queue_times)})\")\n",
    "    print(f\"Wс = {Ws} ({len(system_times)})\")\n",
    "    print(f\"Output order amount: {output_count}\")"
   ]
  },
  {
   "cell_type": "code",
   "execution_count": 38,
   "metadata": {},
   "outputs": [
    {
     "name": "stdout",
     "output_type": "stream",
     "text": [
      "Job time: 249881.91567612634\n",
      "L = 8254.912183693938\n",
      "Wоч = 20603.180747598726 (83306)\n",
      "Wс = 20601.953106710782 (83313)\n",
      "Output order amount: 83313\n"
     ]
    }
   ],
   "source": [
    "loop()"
   ]
  },
  {
   "cell_type": "code",
   "execution_count": null,
   "metadata": {},
   "outputs": [],
   "source": []
  },
  {
   "cell_type": "code",
   "execution_count": null,
   "metadata": {},
   "outputs": [],
   "source": []
  }
 ],
 "metadata": {
  "kernelspec": {
   "display_name": "Python 3",
   "language": "python",
   "name": "python3"
  },
  "language_info": {
   "codemirror_mode": {
    "name": "ipython",
    "version": 3
   },
   "file_extension": ".py",
   "mimetype": "text/x-python",
   "name": "python",
   "nbconvert_exporter": "python",
   "pygments_lexer": "ipython3",
   "version": "3.7.1"
  }
 },
 "nbformat": 4,
 "nbformat_minor": 2
}
