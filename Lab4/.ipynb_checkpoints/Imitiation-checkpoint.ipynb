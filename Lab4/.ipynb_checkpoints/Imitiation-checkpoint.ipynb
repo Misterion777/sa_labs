{
 "cells": [
  {
   "cell_type": "code",
   "execution_count": 31,
   "metadata": {},
   "outputs": [],
   "source": [
    "import numpy as np"
   ]
  },
  {
   "cell_type": "code",
   "execution_count": 43,
   "metadata": {},
   "outputs": [],
   "source": [
    "count = 1000000\n",
    "input_intensity = 2.5\n",
    "output_intensity = 3"
   ]
  },
  {
   "cell_type": "code",
   "execution_count": 44,
   "metadata": {},
   "outputs": [],
   "source": [
    "def get_timings():\n",
    "    timings = np.zeros(count)\n",
    "    timings[0] = np.random.exponential(input_intensity)\n",
    "    for i in range(1, len(timings)):\n",
    "        timings[i] = timings[i - 1] + np.random.exponential(input_intensity)\n",
    "    return timings"
   ]
  },
  {
   "cell_type": "code",
   "execution_count": 45,
   "metadata": {},
   "outputs": [],
   "source": [
    "def loop(): \n",
    "    process_timing = -1\n",
    "    timings = get_timings()\n",
    "    prev_queue_time = 0\n",
    "    prev_time = 0\n",
    "    time = 0\n",
    "    output_count = 0\n",
    "    queue_count = 0\n",
    "    queue_len_times = []\n",
    "    queue_times = []\n",
    "    \n",
    "    i = 0\n",
    "    while i < len(timings):        \n",
    "        time = timings[i]                \n",
    "        if process_timing == -1:                        \n",
    "            process_timing = time + np.random.exponential(output_intensity)\n",
    "            i+=1\n",
    "        elif time > process_timing:                                                \n",
    "            output_count += 1\n",
    "            if queue_count > 0:\n",
    "                process_timing += np.random.exponential(output_intensity)\n",
    "                queue_count -= 1\n",
    "                \n",
    "            else:\n",
    "                process_timing = -1\n",
    "        else:\n",
    "            queue_count += 1\n",
    "            queue_times.append(time - prev_queue_time)\n",
    "            \n",
    "            queue_len_times.append((queue_count, time - prev_queue_time))\n",
    "            prev_queue_time = time\n",
    "            i+=1\n",
    "            \n",
    "        queue_times = map(lambda x: x+time-prev_time, queue_times)\n",
    "        prev_time = time\n",
    "        \n",
    "        \n",
    "    L = sum([i*j for i,j in queue_len_times])/ timings[-1]\n",
    "    print(f\"L = {L}\")\n",
    "    print(output_count)"
   ]
  },
  {
   "cell_type": "code",
   "execution_count": 46,
   "metadata": {},
   "outputs": [
    {
     "name": "stdout",
     "output_type": "stream",
     "text": [
      "L = 84570.78481934624\n",
      "831682\n"
     ]
    }
   ],
   "source": [
    "loop()"
   ]
  },
  {
   "cell_type": "code",
   "execution_count": null,
   "metadata": {},
   "outputs": [],
   "source": []
  }
 ],
 "metadata": {
  "kernelspec": {
   "display_name": "Python 3",
   "language": "python",
   "name": "python3"
  },
  "language_info": {
   "codemirror_mode": {
    "name": "ipython",
    "version": 3
   },
   "file_extension": ".py",
   "mimetype": "text/x-python",
   "name": "python",
   "nbconvert_exporter": "python",
   "pygments_lexer": "ipython3",
   "version": "3.7.1"
  }
 },
 "nbformat": 4,
 "nbformat_minor": 2
}
